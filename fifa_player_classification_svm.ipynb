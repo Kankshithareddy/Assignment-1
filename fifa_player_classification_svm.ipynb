{
  "nbformat": 4,
  "nbformat_minor": 0,
  "metadata": {
    "colab": {
      "provenance": []
    },
    "kernelspec": {
      "name": "python3",
      "display_name": "Python 3"
    },
    "language_info": {
      "name": "python"
    }
  },
  "cells": [
    {
      "cell_type": "code",
      "execution_count": 2,
      "metadata": {
        "colab": {
          "base_uri": "https://localhost:8080/"
        },
        "id": "UauBLazMHNBW",
        "outputId": "ccce86db-bd27-453b-eaa2-e60832e89f02"
      },
      "outputs": [
        {
          "output_type": "stream",
          "name": "stdout",
          "text": [
            "Accuracy: 0.9695222405271828\n",
            "\n",
            "Classification Report:\n",
            "               precision    recall  f1-score   support\n",
            "\n",
            "           0       0.97      1.00      0.98      3531\n",
            "           1       0.00      0.00      0.00       111\n",
            "\n",
            "    accuracy                           0.97      3642\n",
            "   macro avg       0.48      0.50      0.49      3642\n",
            "weighted avg       0.94      0.97      0.95      3642\n",
            "\n"
          ]
        },
        {
          "output_type": "stream",
          "name": "stderr",
          "text": [
            "/usr/local/lib/python3.12/dist-packages/sklearn/metrics/_classification.py:1565: UndefinedMetricWarning: Precision is ill-defined and being set to 0.0 in labels with no predicted samples. Use `zero_division` parameter to control this behavior.\n",
            "  _warn_prf(average, modifier, f\"{metric.capitalize()} is\", len(result))\n",
            "/usr/local/lib/python3.12/dist-packages/sklearn/metrics/_classification.py:1565: UndefinedMetricWarning: Precision is ill-defined and being set to 0.0 in labels with no predicted samples. Use `zero_division` parameter to control this behavior.\n",
            "  _warn_prf(average, modifier, f\"{metric.capitalize()} is\", len(result))\n",
            "/usr/local/lib/python3.12/dist-packages/sklearn/metrics/_classification.py:1565: UndefinedMetricWarning: Precision is ill-defined and being set to 0.0 in labels with no predicted samples. Use `zero_division` parameter to control this behavior.\n",
            "  _warn_prf(average, modifier, f\"{metric.capitalize()} is\", len(result))\n"
          ]
        }
      ],
      "source": [
        "import pandas as pd\n",
        "from sklearn.model_selection import train_test_split\n",
        "from sklearn.svm import SVC\n",
        "from sklearn.metrics import classification_report, accuracy_score\n",
        "\n",
        "# Load dataset\n",
        "file_path =\"/content/fifa_data.csv\"\n",
        "df = pd.read_csv(file_path, sep=\"\\t\", encoding=\"latin1\")\n",
        "\n",
        "# Target: Is player above average (Overall >= 80)?\n",
        "df[\"Above_Avg\"] = (df[\"Overall\"] >= 80).astype(int)\n",
        "\n",
        "# Select numeric features only\n",
        "numeric_cols = df.select_dtypes(include=[\"int64\", \"float64\"]).columns\n",
        "X = df[numeric_cols].drop(columns=[\"Overall\", \"ID\", \"Unnamed: 0\"])  # features\n",
        "y = df[\"Above_Avg\"]\n",
        "\n",
        "# Handle missing values\n",
        "X = X.fillna(0)\n",
        "\n",
        "# Split data\n",
        "X_train, X_test, y_train, y_test = train_test_split(X, y, test_size=0.2, random_state=42)\n",
        "\n",
        "# Train SVM\n",
        "svm = SVC(kernel=\"rbf\")\n",
        "svm.fit(X_train, y_train)\n",
        "\n",
        "# Predictions\n",
        "y_pred = svm.predict(X_test)\n",
        "\n",
        "# Results\n",
        "print(\"Accuracy:\", accuracy_score(y_test, y_pred))\n",
        "print(\"\\nClassification Report:\\n\", classification_report(y_test, y_pred))\n"
      ]
    },
    {
      "cell_type": "code",
      "source": [],
      "metadata": {
        "id": "s8HBPr34HrCp"
      },
      "execution_count": null,
      "outputs": []
    }
  ]
}